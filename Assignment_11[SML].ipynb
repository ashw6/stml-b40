{
  "nbformat": 4,
  "nbformat_minor": 0,
  "metadata": {
    "colab": {
      "provenance": [],
      "authorship_tag": "ABX9TyNhe5u2xrwfD/O6Bt9gEs06",
      "include_colab_link": true
    },
    "kernelspec": {
      "name": "python3",
      "display_name": "Python 3"
    },
    "language_info": {
      "name": "python"
    }
  },
  "cells": [
    {
      "cell_type": "markdown",
      "metadata": {
        "id": "view-in-github",
        "colab_type": "text"
      },
      "source": [
        "<a href=\"https://colab.research.google.com/github/ashw6/stml-b40/blob/main/Assignment_11%5BSML%5D.ipynb\" target=\"_parent\"><img src=\"https://colab.research.google.com/assets/colab-badge.svg\" alt=\"Open In Colab\"/></a>"
      ]
    },
    {
      "cell_type": "code",
      "execution_count": 1,
      "metadata": {
        "colab": {
          "base_uri": "https://localhost:8080/"
        },
        "id": "aJNoi2HbzBgq",
        "outputId": "aa45164a-2360-4d3d-8bc4-6992d2e9e43d"
      },
      "outputs": [
        {
          "output_type": "stream",
          "name": "stdout",
          "text": [
            "Accuracies without PCA:\n",
            "SVM: 0.7692307692307693\n",
            "KNN: 0.7384615384615385\n",
            "Logistic Regression: 0.7692307692307693\n",
            "\n",
            "Accuracies with PCA:\n",
            "SVM with PCA: 0.7692307692307693\n",
            "KNN with PCA: 0.7538461538461538\n",
            "Logistic Regression with PCA: 0.7692307692307693\n"
          ]
        }
      ],
      "source": [
        "import pandas as pd\n",
        "from sklearn.model_selection import train_test_split\n",
        "from sklearn.preprocessing import LabelEncoder, StandardScaler\n",
        "from sklearn.impute import SimpleImputer\n",
        "from sklearn.svm import SVC\n",
        "from sklearn.neighbors import KNeighborsClassifier\n",
        "from sklearn.linear_model import LogisticRegression\n",
        "from sklearn.metrics import accuracy_score\n",
        "from sklearn.decomposition import PCA\n",
        "\n",
        "# Load data\n",
        "data = pd.read_csv('/content/breast_cancer_survival.csv')\n",
        "\n",
        "# Drop rows where the target variable 'Patient_Status' is missing\n",
        "data = data.dropna(subset=['Patient_Status'])\n",
        "\n",
        "# Encoding categorical features\n",
        "categorical_columns = ['Gender', 'Tumour_Stage', 'Histology', 'ER status', 'PR status', 'HER2 status', 'Surgery_type']\n",
        "for col in categorical_columns:\n",
        "    le = LabelEncoder()\n",
        "    data[col] = le.fit_transform(data[col])\n",
        "\n",
        "# Encode target variable\n",
        "target_encoder = LabelEncoder()\n",
        "data['Patient_Status'] = target_encoder.fit_transform(data['Patient_Status'])\n",
        "\n",
        "# Select features and target\n",
        "X = data.drop(columns=['Patient_Status', 'Date_of_Surgery', 'Date_of_Last_Visit'])\n",
        "y = data['Patient_Status']\n",
        "\n",
        "# Impute missing values if any remain after dropping missing target rows\n",
        "imputer = SimpleImputer(strategy='mean')\n",
        "X = pd.DataFrame(imputer.fit_transform(X), columns=X.columns)\n",
        "\n",
        "# Standardize features\n",
        "scaler = StandardScaler()\n",
        "X_scaled = scaler.fit_transform(X)\n",
        "\n",
        "# Split data into train and test sets\n",
        "X_train, X_test, y_train, y_test = train_test_split(X_scaled, y, test_size=0.2, random_state=42)\n",
        "\n",
        "# Train and evaluate SVM\n",
        "svm = SVC(random_state=42)\n",
        "svm.fit(X_train, y_train)\n",
        "svm_accuracy = accuracy_score(y_test, svm.predict(X_test))\n",
        "\n",
        "# Train and evaluate KNN\n",
        "knn = KNeighborsClassifier()\n",
        "knn.fit(X_train, y_train)\n",
        "knn_accuracy = accuracy_score(y_test, knn.predict(X_test))\n",
        "\n",
        "# Train and evaluate Logistic Regression\n",
        "log_reg = LogisticRegression(random_state=42, max_iter=200)\n",
        "log_reg.fit(X_train, y_train)\n",
        "log_reg_accuracy = accuracy_score(y_test, log_reg.predict(X_test))\n",
        "\n",
        "print(\"Accuracies without PCA:\")\n",
        "print(\"SVM:\", svm_accuracy)\n",
        "print(\"KNN:\", knn_accuracy)\n",
        "print(\"Logistic Regression:\", log_reg_accuracy)\n",
        "\n",
        "# Apply PCA to reduce dimensions\n",
        "pca = PCA(n_components=5)\n",
        "X_train_pca = pca.fit_transform(X_train)\n",
        "X_test_pca = pca.transform(X_test)\n",
        "\n",
        "# Train and evaluate SVM with PCA\n",
        "svm.fit(X_train_pca, y_train)\n",
        "svm_pca_accuracy = accuracy_score(y_test, svm.predict(X_test_pca))\n",
        "\n",
        "# Train and evaluate KNN with PCA\n",
        "knn.fit(X_train_pca, y_train)\n",
        "knn_pca_accuracy = accuracy_score(y_test, knn.predict(X_test_pca))\n",
        "\n",
        "# Train and evaluate Logistic Regression with PCA\n",
        "log_reg.fit(X_train_pca, y_train)\n",
        "log_reg_pca_accuracy = accuracy_score(y_test, log_reg.predict(X_test_pca))\n",
        "\n",
        "print(\"\\nAccuracies with PCA:\")\n",
        "print(\"SVM with PCA:\", svm_pca_accuracy)\n",
        "print(\"KNN with PCA:\", knn_pca_accuracy)\n",
        "print(\"Logistic Regression with PCA:\", log_reg_pca_accuracy)\n"
      ]
    }
  ]
}